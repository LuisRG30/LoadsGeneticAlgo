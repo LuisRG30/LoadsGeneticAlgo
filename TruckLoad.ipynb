{
 "cells": [
  {
   "cell_type": "markdown",
   "id": "promising-morris",
   "metadata": {},
   "source": [
    "# Situación Problema\n",
    "Cargar un camión con volumen limitado para maximizar la ganancia"
   ]
  },
  {
   "cell_type": "markdown",
   "id": "smoking-milwaukee",
   "metadata": {},
   "source": [
    "Luis Ramírez Guzmán A0138402\n",
    "\n",
    "Alberto Cortés González A01635875\n",
    "\n",
    "Mariana Rizo\n",
    "\n",
    "Renata Uribe"
   ]
  },
  {
   "cell_type": "code",
   "execution_count": 1,
   "id": "statistical-marker",
   "metadata": {},
   "outputs": [],
   "source": [
    "import pandas as pd\n",
    "import matplotlib.pyplot as plt"
   ]
  },
  {
   "cell_type": "code",
   "execution_count": 2,
   "id": "developmental-island",
   "metadata": {},
   "outputs": [],
   "source": [
    "from Product import Product\n",
    "from Individual import Individual\n",
    "from GeneticLoad import GeneticLoad"
   ]
  },
  {
   "cell_type": "code",
   "execution_count": 3,
   "id": "martial-keyboard",
   "metadata": {},
   "outputs": [
    {
     "data": {
      "text/html": [
       "<div>\n",
       "<style scoped>\n",
       "    .dataframe tbody tr th:only-of-type {\n",
       "        vertical-align: middle;\n",
       "    }\n",
       "\n",
       "    .dataframe tbody tr th {\n",
       "        vertical-align: top;\n",
       "    }\n",
       "\n",
       "    .dataframe thead th {\n",
       "        text-align: right;\n",
       "    }\n",
       "</style>\n",
       "<table border=\"1\" class=\"dataframe\">\n",
       "  <thead>\n",
       "    <tr style=\"text-align: right;\">\n",
       "      <th></th>\n",
       "      <th>Product</th>\n",
       "      <th>Volume</th>\n",
       "      <th>Price</th>\n",
       "    </tr>\n",
       "  </thead>\n",
       "  <tbody>\n",
       "    <tr>\n",
       "      <th>0</th>\n",
       "      <td>Refirgerator A</td>\n",
       "      <td>0.75100</td>\n",
       "      <td>999.90</td>\n",
       "    </tr>\n",
       "    <tr>\n",
       "      <th>1</th>\n",
       "      <td>Notebook A</td>\n",
       "      <td>0.00350</td>\n",
       "      <td>2499.90</td>\n",
       "    </tr>\n",
       "    <tr>\n",
       "      <th>2</th>\n",
       "      <td>Microwave C</td>\n",
       "      <td>0.03190</td>\n",
       "      <td>299.29</td>\n",
       "    </tr>\n",
       "    <tr>\n",
       "      <th>3</th>\n",
       "      <td>Notebook C</td>\n",
       "      <td>0.52700</td>\n",
       "      <td>3999.00</td>\n",
       "    </tr>\n",
       "    <tr>\n",
       "      <th>4</th>\n",
       "      <td>Cell phone</td>\n",
       "      <td>0.00009</td>\n",
       "      <td>2199.12</td>\n",
       "    </tr>\n",
       "    <tr>\n",
       "      <th>5</th>\n",
       "      <td>Ventilador</td>\n",
       "      <td>0.49600</td>\n",
       "      <td>199.90</td>\n",
       "    </tr>\n",
       "    <tr>\n",
       "      <th>6</th>\n",
       "      <td>Refrigerator B</td>\n",
       "      <td>0.63500</td>\n",
       "      <td>849.00</td>\n",
       "    </tr>\n",
       "    <tr>\n",
       "      <th>7</th>\n",
       "      <td>TV 55</td>\n",
       "      <td>0.40000</td>\n",
       "      <td>4346.99</td>\n",
       "    </tr>\n",
       "    <tr>\n",
       "      <th>8</th>\n",
       "      <td>Microwave A</td>\n",
       "      <td>0.04240</td>\n",
       "      <td>308.66</td>\n",
       "    </tr>\n",
       "    <tr>\n",
       "      <th>9</th>\n",
       "      <td>TV 50</td>\n",
       "      <td>0.29000</td>\n",
       "      <td>3999.90</td>\n",
       "    </tr>\n",
       "  </tbody>\n",
       "</table>\n",
       "</div>"
      ],
      "text/plain": [
       "          Product   Volume    Price\n",
       "0  Refirgerator A  0.75100   999.90\n",
       "1      Notebook A  0.00350  2499.90\n",
       "2     Microwave C  0.03190   299.29\n",
       "3      Notebook C  0.52700  3999.00\n",
       "4      Cell phone  0.00009  2199.12\n",
       "5      Ventilador  0.49600   199.90\n",
       "6  Refrigerator B  0.63500   849.00\n",
       "7           TV 55  0.40000  4346.99\n",
       "8     Microwave A  0.04240   308.66\n",
       "9           TV 50  0.29000  3999.90"
      ]
     },
     "execution_count": 3,
     "metadata": {},
     "output_type": "execute_result"
    }
   ],
   "source": [
    "data = pd.read_excel(\"load.xlsx\")\n",
    "data.head(10)"
   ]
  },
  {
   "cell_type": "code",
   "execution_count": 4,
   "id": "fleet-camera",
   "metadata": {},
   "outputs": [
    {
     "data": {
      "text/plain": [
       "Product    Refirgerator ANotebook AMicrowave CNotebook CC...\n",
       "Volume                                               4.79929\n",
       "Price                                               26331.25\n",
       "dtype: object"
      ]
     },
     "execution_count": 4,
     "metadata": {},
     "output_type": "execute_result"
    }
   ],
   "source": [
    "data.sum()"
   ]
  },
  {
   "cell_type": "code",
   "execution_count": 5,
   "id": "exempt-radio",
   "metadata": {},
   "outputs": [
    {
     "data": {
      "text/html": [
       "<div>\n",
       "<style scoped>\n",
       "    .dataframe tbody tr th:only-of-type {\n",
       "        vertical-align: middle;\n",
       "    }\n",
       "\n",
       "    .dataframe tbody tr th {\n",
       "        vertical-align: top;\n",
       "    }\n",
       "\n",
       "    .dataframe thead th {\n",
       "        text-align: right;\n",
       "    }\n",
       "</style>\n",
       "<table border=\"1\" class=\"dataframe\">\n",
       "  <thead>\n",
       "    <tr style=\"text-align: right;\">\n",
       "      <th></th>\n",
       "      <th>Volume</th>\n",
       "      <th>Price</th>\n",
       "    </tr>\n",
       "  </thead>\n",
       "  <tbody>\n",
       "    <tr>\n",
       "      <th>count</th>\n",
       "      <td>14.000000</td>\n",
       "      <td>14.000000</td>\n",
       "    </tr>\n",
       "    <tr>\n",
       "      <th>mean</th>\n",
       "      <td>0.342806</td>\n",
       "      <td>1880.803571</td>\n",
       "    </tr>\n",
       "    <tr>\n",
       "      <th>std</th>\n",
       "      <td>0.296198</td>\n",
       "      <td>1494.044572</td>\n",
       "    </tr>\n",
       "    <tr>\n",
       "      <th>min</th>\n",
       "      <td>0.000090</td>\n",
       "      <td>199.900000</td>\n",
       "    </tr>\n",
       "    <tr>\n",
       "      <th>25%</th>\n",
       "      <td>0.045400</td>\n",
       "      <td>534.675000</td>\n",
       "    </tr>\n",
       "    <tr>\n",
       "      <th>50%</th>\n",
       "      <td>0.345000</td>\n",
       "      <td>1599.895000</td>\n",
       "    </tr>\n",
       "    <tr>\n",
       "      <th>75%</th>\n",
       "      <td>0.519750</td>\n",
       "      <td>2874.900000</td>\n",
       "    </tr>\n",
       "    <tr>\n",
       "      <th>max</th>\n",
       "      <td>0.870000</td>\n",
       "      <td>4346.990000</td>\n",
       "    </tr>\n",
       "  </tbody>\n",
       "</table>\n",
       "</div>"
      ],
      "text/plain": [
       "          Volume        Price\n",
       "count  14.000000    14.000000\n",
       "mean    0.342806  1880.803571\n",
       "std     0.296198  1494.044572\n",
       "min     0.000090   199.900000\n",
       "25%     0.045400   534.675000\n",
       "50%     0.345000  1599.895000\n",
       "75%     0.519750  2874.900000\n",
       "max     0.870000  4346.990000"
      ]
     },
     "execution_count": 5,
     "metadata": {},
     "output_type": "execute_result"
    }
   ],
   "source": [
    "data.describe()"
   ]
  },
  {
   "cell_type": "code",
   "execution_count": 6,
   "id": "searching-today",
   "metadata": {},
   "outputs": [
    {
     "name": "stdout",
     "output_type": "stream",
     "text": [
      "0.751, 999.9\n",
      "0.0035, 2499.9\n",
      "0.0319, 299.29\n",
      "0.527, 3999.0\n",
      "8.99e-05, 2199.12\n",
      "0.496, 199.9\n",
      "0.635, 849.0\n",
      "0.4, 4346.99\n",
      "0.0424, 308.66\n",
      "0.29, 3999.9\n",
      "0.87, 1199.89\n",
      "0.2, 2999.9\n",
      "0.0544, 429.9\n",
      "0.498, 1999.9\n"
     ]
    }
   ],
   "source": [
    "products = []\n",
    "for index, row in data.iterrows():\n",
    "    products.append(Product(row['Volume'], row['Price']))\n",
    "    \n",
    "for product in products:\n",
    "    print(product)"
   ]
  },
  {
   "cell_type": "code",
   "execution_count": 7,
   "id": "tropical-chart",
   "metadata": {},
   "outputs": [
    {
     "name": "stdout",
     "output_type": "stream",
     "text": [
      "[0, 1, 1, 1, 1, 0, 0, 1, 1, 1, 1, 1, 1, 1] 24282.450000000004\n"
     ]
    },
    {
     "data": {
      "image/png": "[encoded data removed]",
      "text/plain": [
       "<Figure size 432x288 with 1 Axes>"
      ]
     },
     "metadata": {
      "needs_background": "light"
     },
     "output_type": "display_data"
    }
   ],
   "source": [
    "g = GeneticLoad(products, 3, population_size=100, generations=100, mutation_chance=0.1)\n",
    "g.solve()\n",
    "print(g.best, g.best_fitness)\n",
    "plt.plot(g.fitness_history)\n",
    "plt.title('Population Average Fitness')\n",
    "plt.xlabel('Generation')\n",
    "plt.ylabel('Fitness')\n",
    "plt.show()"
   ]
  },
  {
   "cell_type": "code",
   "execution_count": 8,
   "id": "automatic-archives",
   "metadata": {},
   "outputs": [
    {
     "data": {
      "image/png": "[encoded data removed]",
      "text/plain": [
       "<Figure size 432x288 with 1 Axes>"
      ]
     },
     "metadata": {
      "needs_background": "light"
     },
     "output_type": "display_data"
    }
   ],
   "source": [
    "plt.plot(g.best_fitness_history)\n",
    "plt.title(\"Best Individual's Fitness\")\n",
    "plt.xlabel(\"Generation\")\n",
    "plt.ylabel(\"Fitness\")\n",
    "plt.show()"
   ]
  },
  {
   "cell_type": "code",
   "execution_count": null,
   "id": "integral-concentration",
   "metadata": {},
   "outputs": [],
   "source": []
  }
 ],
 "metadata": {
  "kernelspec": {
   "display_name": "Python 3",
   "language": "python",
   "name": "python3"
  },
  "language_info": {
   "codemirror_mode": {
    "name": "ipython",
    "version": 3
   },
   "file_extension": ".py",
   "mimetype": "text/x-python",
   "name": "python",
   "nbconvert_exporter": "python",
   "pygments_lexer": "ipython3",
   "version": "3.8.5"
  }
 },
 "nbformat": 4,
 "nbformat_minor": 5
}
